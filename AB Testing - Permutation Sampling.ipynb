{
 "cells": [
  {
   "cell_type": "markdown",
   "metadata": {},
   "source": [
    "# A/B Testing"
   ]
  },
  {
   "cell_type": "markdown",
   "metadata": {},
   "source": [
    "## Exploring Hypothesis Testing and Test Statistic Estimation"
   ]
  },
  {
   "cell_type": "code",
   "execution_count": 26,
   "metadata": {
    "collapsed": true
   },
   "outputs": [],
   "source": [
    "import numpy as np\n",
    "import matplotlib.pyplot as plt"
   ]
  },
  {
   "cell_type": "markdown",
   "metadata": {},
   "source": [
    "### Hypothesis Test"
   ]
  },
  {
   "cell_type": "markdown",
   "metadata": {},
   "source": [
    "For an A/B test, we'll assume the null hypothesis to be such that: **the test statistic is impervious to change**. In other words, *the test statistic is not affected by the redesign*. For this scenario, we'll take the fractional difference between Group A (40%) and Group B (60%). See the image below of how the data is split between the two groups, and the click-through rate (CTR) for each."
   ]
  },
  {
   "cell_type": "markdown",
   "metadata": {},
   "source": [
    "<img src=\"amex_ABtestexample.png\" width=\"200\" height=\"600\">"
   ]
  },
  {
   "cell_type": "markdown",
   "metadata": {},
   "source": [
    "Defining some helpful functions:"
   ]
  },
  {
   "cell_type": "code",
   "execution_count": 2,
   "metadata": {
    "collapsed": true
   },
   "outputs": [],
   "source": [
    "def permutation_sample(data_1, data_2):\n",
    "    \"\"\"Generate a permutation sample from two data sets.\"\"\"\n",
    "\n",
    "    # Concatenate the data sets: data\n",
    "    data = np.concatenate((data_1, data_2))\n",
    "\n",
    "    # Permute the concatenated array: permuted_data\n",
    "    permuted_data = np.random.permutation(data)\n",
    "\n",
    "    # Split the permuted array into two: perm_sample_1, perm_sample_2\n",
    "    perm_sample_1 = permuted_data[:len(data_1)]\n",
    "    perm_sample_2 = permuted_data[len(data_1):]\n",
    "\n",
    "    return perm_sample_1, perm_sample_2\n",
    "\n",
    "def draw_perm_reps(data_1, data_2, func, size=1):\n",
    "    \"\"\"Generate multiple permutation replicates.\"\"\"\n",
    "\n",
    "    # Initialize array of replicates: perm_replicates\n",
    "    perm_replicates = np.empty(size)\n",
    "\n",
    "    for i in range(size):\n",
    "        # Generate permutation sample\n",
    "        perm_sample_1, perm_sample_2 = permutation_sample(data_1, data_2)\n",
    "\n",
    "        # Compute the test statistic\n",
    "        perm_replicates[i] = func(perm_sample_1, perm_sample_2)\n",
    "\n",
    "    return perm_replicates\n",
    "\n",
    "def p_value(exp, obs):\n",
    "    \"\"\"Calculate the p_value (the probability of getting the observed \n",
    "    value assuming the null hypothesis is true)\"\"\"\n",
    "    \n",
    "    return (np.sum(exp >= obs)) / len(exp)"
   ]
  },
  {
   "cell_type": "markdown",
   "metadata": {},
   "source": [
    "Let's define the test statistic for the hypothesis test (fractional difference between groups):"
   ]
  },
  {
   "cell_type": "code",
   "execution_count": 3,
   "metadata": {
    "collapsed": true
   },
   "outputs": [],
   "source": [
    "def diff_frac(data_A, data_B):\n",
    "    frac_A = np.sum(data_A) / len(data_A)\n",
    "    frac_B = np.sum(data_B) / len(data_B)\n",
    "    return frac_B - frac_A"
   ]
  },
  {
   "cell_type": "markdown",
   "metadata": {},
   "source": [
    "Generating an array of 1's and 0's (where the 1's define a click-through), we can create 10,000 bootstrap replicates by permutating the data under the null hypothesis. Finally, we'll calculate the observed fractional difference (0.2 or 20%) and generate the p_value."
   ]
  },
  {
   "cell_type": "code",
   "execution_count": 99,
   "metadata": {
    "collapsed": true
   },
   "outputs": [],
   "source": [
    "clickthrough_A = np.random.permutation(np.array(30*[0] + 20*[1]))\n",
    "clickthrough_B = np.random.permutation(np.array(20*[0] + 30*[1]))"
   ]
  },
  {
   "cell_type": "code",
   "execution_count": 100,
   "metadata": {},
   "outputs": [],
   "source": [
    "diff_frac_exp = draw_perm_reps(clickthrough_A,clickthrough_B,\n",
    "                               func = diff_frac, size = 10000)"
   ]
  },
  {
   "cell_type": "code",
   "execution_count": 101,
   "metadata": {
    "collapsed": true
   },
   "outputs": [],
   "source": [
    "diff_frac_obs = diff_frac(clickthrough_A,clickthrough_B)"
   ]
  },
  {
   "cell_type": "code",
   "execution_count": 102,
   "metadata": {},
   "outputs": [],
   "source": [
    "p = p_value(diff_frac_exp, diff_frac_obs)\n",
    "alpha = 0.05"
   ]
  },
  {
   "cell_type": "code",
   "execution_count": 103,
   "metadata": {},
   "outputs": [
    {
     "name": "stdout",
     "output_type": "stream",
     "text": [
      "p_value = 0.0362\n",
      "alpha = 0.05\n"
     ]
    }
   ],
   "source": [
    "print('p_value =', p)\n",
    "print('alpha =', alpha)"
   ]
  },
  {
   "cell_type": "markdown",
   "metadata": {},
   "source": [
    "Assuming an alpha (threshold param) as the typical 0.05, we can reject the null hypothesis (as p is less than alpha) that the test statistic (fractional difference) is impervious to change, and thus conclude that there is statistical signficance.\n",
    "\n",
    "We must note that even though our p_value was close to our designated alpha value, we took 10,000 bootstrap replicates to obtain said p_value, and thus we can feel confident about the probability of obtaining the observed value given the null hypothesis. Of course, if we increased the bootstrap simulation size, we would obtain a larger p_value. Conversely, if we had a larger data set (assuming similar clickthrough rate), we'd expect a smaller p_value. "
   ]
  },
  {
   "cell_type": "markdown",
   "metadata": {},
   "source": [
    "### Test Statistic Estimation"
   ]
  },
  {
   "cell_type": "markdown",
   "metadata": {},
   "source": [
    "In addition to the hypothesis test, we can also estimate the uplift (or percent change between Group A and B). We can do this by creating 1 million bootstrap replicates and computing the 95% confidence interval. "
   ]
  },
  {
   "cell_type": "code",
   "execution_count": 61,
   "metadata": {
    "collapsed": true
   },
   "outputs": [],
   "source": [
    "def bootstrap_replicate_1d(data, func):\n",
    "    \"\"\"Generate bootstrap replicate of 1D data.\"\"\"\n",
    "    bs_sample = np.random.choice(data, len(data))\n",
    "    return func(bs_sample)\n",
    "\n",
    "def draw_bs_reps(data, func, size=1):\n",
    "    \"\"\"Draw bootstrap replicates.\"\"\"\n",
    "\n",
    "    # Initialize array of replicates: bs_replicates\n",
    "    bs_replicates = np.empty(size)\n",
    "\n",
    "    # Generate replicates\n",
    "    for i in range(size):\n",
    "        bs_replicates[i] = bootstrap_replicate_1d(data, func)\n",
    "\n",
    "    return bs_replicates\n",
    "\n",
    "def frac_any(data):\n",
    "    \"\"\"Generate fraction of data (equal to 1)\"\"\"\n",
    "    return np.sum(data) / len(data)\n",
    "\n",
    "def frac_change(data_A, data_B):\n",
    "    \"\"\"Generate fractional change\"\"\"\n",
    "    frac_A = np.sum(data_A) / len(data_A)\n",
    "    frac_B = np.sum(data_B) / len(data_B)\n",
    "    return (frac_B - frac_A) / frac_A"
   ]
  },
  {
   "cell_type": "markdown",
   "metadata": {},
   "source": [
    "Let's re-define the clickthrough data by simply adding more data. We'll do this so that we can simulate a tighter confidence interval. Note that this was simply done for the sake of this example."
   ]
  },
  {
   "cell_type": "code",
   "execution_count": null,
   "metadata": {
    "collapsed": true
   },
   "outputs": [],
   "source": [
    "clickthrough_A = np.random.permutation(np.array(30000*[0] + 20000*[1]))\n",
    "clickthrough_B = np.random.permutation(np.array(20000*[0] + 30000*[1]))"
   ]
  },
  {
   "cell_type": "code",
   "execution_count": 94,
   "metadata": {},
   "outputs": [],
   "source": [
    "uplift_obs = frac_change(clickthrough_A,clickthrough_B)"
   ]
  },
  {
   "cell_type": "code",
   "execution_count": 93,
   "metadata": {},
   "outputs": [],
   "source": [
    "bs_replicates_Group_A = draw_bs_reps(clickthrough_A, frac_any, 10000)\n",
    "bs_replicates_Group_B = draw_bs_reps(clickthrough_B, frac_any, 10000)"
   ]
  },
  {
   "cell_type": "code",
   "execution_count": 104,
   "metadata": {},
   "outputs": [],
   "source": [
    "bs_diff_replicates = ((bs_replicates_Group_B - bs_replicates_Group_A) / \n",
    "                      bs_replicates_Group_A)"
   ]
  },
  {
   "cell_type": "code",
   "execution_count": 96,
   "metadata": {},
   "outputs": [
    {
     "data": {
      "image/png": "[encoded data removed]",
      "text/plain": [
       "<matplotlib.figure.Figure at 0x1c23b965d68>"
      ]
     },
     "metadata": {},
     "output_type": "display_data"
    }
   ],
   "source": [
    "plt.hist(bs_diff_replicates, bins=50, normed = True)\n",
    "plt.xlabel(\"Uplift\")\n",
    "plt.ylabel('PDF')\n",
    "plt.show()"
   ]
  },
  {
   "cell_type": "code",
   "execution_count": 97,
   "metadata": {
    "collapsed": true
   },
   "outputs": [],
   "source": [
    "conf_int = np.percentile(bs_diff_replicates, [2.5, 97.5])"
   ]
  },
  {
   "cell_type": "code",
   "execution_count": 98,
   "metadata": {},
   "outputs": [
    {
     "name": "stdout",
     "output_type": "stream",
     "text": [
      "Uplift = 0.5\n",
      "95% confidence interval = [ 0.48063858  0.51933278]\n"
     ]
    }
   ],
   "source": [
    "# Print the results\n",
    "print('Uplift =', uplift_obs)\n",
    "print('95% confidence interval =', conf_int)"
   ]
  },
  {
   "cell_type": "markdown",
   "metadata": {},
   "source": [
    "We can note the normal distribution obtained by taking 10,000 bootstrap replicates of the uplift statistic. The interval is tight around the uplift statistic, with a 95% chance the uplift being as little as about 48% to at most 52%. \n",
    "\n",
    "The confidence interval is helpful here for an A/B test if one designates a particular threshold for the uplift to be met. For example, if the team designates that the redesign of a particular webpage must garner an uplift of atleast 45%, then one can say with 95% certainty that this A/B test produced results that obtained a reasonable uplift. \n",
    "\n",
    "If the threshold is above the interval, then one must consider collecting more data for the A/B test and/or creating a new redesign."
   ]
  },
  {
   "cell_type": "markdown",
   "metadata": {},
   "source": [
    "*Reference: Some functions were heavily influenced from Datacamp, a data science online learning environment. All code is free and open-source. Thanks Datacamp!*"
   ]
  },
  {
   "cell_type": "code",
   "execution_count": null,
   "metadata": {
    "collapsed": true
   },
   "outputs": [],
   "source": []
  }
 ],
 "metadata": {
  "kernelspec": {
   "display_name": "Python 3",
   "language": "python",
   "name": "python3"
  },
  "language_info": {
   "codemirror_mode": {
    "name": "ipython",
    "version": 3
   },
   "file_extension": ".py",
   "mimetype": "text/x-python",
   "name": "python",
   "nbconvert_exporter": "python",
   "pygments_lexer": "ipython3",
   "version": "3.8.3"
  }
 },
 "nbformat": 4,
 "nbformat_minor": 2
}
